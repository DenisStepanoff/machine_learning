{
 "cells": [
  {
   "cell_type": "code",
   "execution_count": 17,
   "metadata": {},
   "outputs": [],
   "source": [
    "%matplotlib inline\n",
    "\n",
    "import matplotlib.pyplot as plt\n",
    "import gym\n",
    "from time import sleep\n",
    "import os"
   ]
  },
  {
   "cell_type": "code",
   "execution_count": 19,
   "metadata": {},
   "outputs": [
    {
     "name": "stdout",
     "output_type": "stream",
     "text": [
      "Timesteps taken: 1079\n",
      "Penalties incurred: 352\n"
     ]
    },
    {
     "data": {
      "image/png": "[encoded data removed]",
      "text/plain": [
       "<Figure size 432x288 with 1 Axes>"
      ]
     },
     "metadata": {
      "needs_background": "light"
     },
     "output_type": "display_data"
    }
   ],
   "source": [
    "\n",
    "\n",
    "# Create evn\n",
    "env = gym.make(\"Taxi-v2\").env\n",
    "\n",
    "env.s = 328\n",
    "\n",
    "\n",
    "# start conditions in zero\n",
    "epochs = 0\n",
    "penalties, reward = 0, 0\n",
    "\n",
    "frames_dict = []\n",
    "r_list = []\n",
    "penalty_list = []\n",
    "done = False\n",
    "\n",
    "while not done:\n",
    "    action = env.action_space.sample()\n",
    "    state, reward, done, info = env.step(action)\n",
    "    \n",
    "    r_list.append(reward)\n",
    "\n",
    "    if reward == -10:\n",
    "        penalties += 1\n",
    "        penalty_list.append(penalties)\n",
    "    else:\n",
    "        penalty_list.append(0)\n",
    "\n",
    "    # dict for animation frames data accumulation\n",
    "    frames_dict.append({\n",
    "        'frame': env.render(mode='ansi'),\n",
    "        'state': state,\n",
    "        'action': action,\n",
    "        'reward': reward\n",
    "    }\n",
    "    )\n",
    "\n",
    "    epochs += 1\n",
    "\n",
    "print(\"Timesteps taken: {}\".format(epochs))\n",
    "print(\"Penalties incurred: {}\".format(penalties))\n",
    "\n",
    "# Animation func, based on frames_dict data\n",
    "def frames(frames_dict):\n",
    "    i = 0\n",
    "    #print(type(frames))\n",
    "    for frame in frames_dict:\n",
    "        #clear_output(wait=True)\n",
    "        #os.system('cls')\n",
    "        print(frame['frame'].getvalue())\n",
    "        print(f\"Timestep: {i + 1}\")\n",
    "        print(f\"State: {frame['state']}\")\n",
    "        print(f\"Action: {frame['action']}\")\n",
    "        print(f\"Reward: {frame['reward']}\")\n",
    "        #sleep(.1)\n",
    "        i += 1\n",
    "        \n",
    "#frames(frames_dict)\n",
    "#print(frames)\n",
    "\n",
    "plt.plot(r_list)\n",
    "plt.ylabel('Reward per epoch')\n",
    "plt.xlabel('Number of epoch')\n",
    "plt.show()\n",
    "              \n",
    "              plt.plot(r_list)\n",
    "plt.ylabel('Reward per epoch')\n",
    "plt.xlabel('Number of epoch')\n",
    "plt.show()"
   ]
  },
  {
   "cell_type": "code",
   "execution_count": null,
   "metadata": {},
   "outputs": [],
   "source": []
  },
  {
   "cell_type": "code",
   "execution_count": null,
   "metadata": {},
   "outputs": [],
   "source": []
  }
 ],
 "metadata": {
  "kernelspec": {
   "display_name": "Python 3",
   "language": "python",
   "name": "python3"
  },
  "language_info": {
   "codemirror_mode": {
    "name": "ipython",
    "version": 3
   },
   "file_extension": ".py",
   "mimetype": "text/x-python",
   "name": "python",
   "nbconvert_exporter": "python",
   "pygments_lexer": "ipython3",
   "version": "3.6.7"
  }
 },
 "nbformat": 4,
 "nbformat_minor": 2
}
